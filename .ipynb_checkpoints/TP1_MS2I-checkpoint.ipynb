{
 "cells": [
  {
   "cell_type": "markdown",
   "metadata": {},
   "source": [
    "# Travaux pratiques et Exercices Corrigées \n",
    "\n",
    "   # MASTER M2SI"
   ]
  },
  {
   "cell_type": "markdown",
   "metadata": {},
   "source": [
    "## 1. Algèbre linéaire avec Python "
   ]
  },
  {
   "cell_type": "markdown",
   "metadata": {},
   "source": [
    "La bibliothèque Numpy est chargée à l’aide de la commande <span style=\"color:green\"> import </span> numpy as <span style=\"color:green\"> Nom </span>.                                      \n"
   ]
  },
  {
   "cell_type": "markdown",
   "metadata": {},
   "source": [
    "## Exercice 1"
   ]
  },
  {
   "cell_type": "markdown",
   "metadata": {},
   "source": [
    "Écrire un algorithme puis un programme Python qui effectue les opérations suivantes :\n",
    "    \n",
    "1- Saisir un nombre réel ;\n",
    "\n",
    "2- Afficher la partie entière et la partie décimale. Exemple pour 45.478 ; afficher \"Partie entière\n",
    "45 et partie décimale 0.478. "
   ]
  },
  {
   "cell_type": "code",
   "execution_count": 9,
   "metadata": {},
   "outputs": [
    {
     "name": "stdin",
     "output_type": "stream",
     "text": [
      "Entrer un nombre réel :  7.7\n"
     ]
    },
    {
     "name": "stdout",
     "output_type": "stream",
     "text": [
      "Partie réelle :  7\n",
      "Partie décimale  0.7000000000000002\n"
     ]
    }
   ],
   "source": [
    "a = float(input(\"Entrer un nombre réel : \"))\n",
    "\n",
    "print(\"Partie réelle : \", int(a))\n",
    "print(\"Partie décimale \", a - int(a))\n",
    "#les erreurs d'arrondis sont normales. Elles sont liées à la variable de→ type float. \n"
   ]
  },
  {
   "cell_type": "markdown",
   "metadata": {},
   "source": [
    "## Exercice 2"
   ]
  },
  {
   "cell_type": "markdown",
   "metadata": {},
   "source": [
    "On se place dans le plan muni d’un repère orthonormé. Écrire un algorithme puis un programme\n",
    "Python qui effectue les opérations suivantes :\n",
    "    \n",
    "1- Saisir deux vecteurs $$ \\vec{u} = [u_x, u_y] \\quad \\quad et \\quad \\quad \\vec{v} = [v_x, v_y]$$ \n",
    "\n",
    "2- Calculer la somme : $$ \\vec{w} = \\vec{u} + \\vec{v}$$ \n",
    "\n",
    "3- Afficher le résultat."
   ]
  },
  {
   "cell_type": "markdown",
   "metadata": {},
   "source": [
    "## Exercice 3"
   ]
  },
  {
   "cell_type": "code",
   "execution_count": 21,
   "metadata": {},
   "outputs": [
    {
     "name": "stdin",
     "output_type": "stream",
     "text": [
      "Entrer le vecteur u : [xu , yu] :  [[1,2,4],[3,4,0]]\n",
      "Entrer le vecteur v : [xv , yv] :  [[4,9,0],[3,2,1]]\n"
     ]
    },
    {
     "name": "stdout",
     "output_type": "stream",
     "text": [
      "Vecteur w = u + v :  [[ 5 11  4]\n",
      " [ 6  6  1]]\n"
     ]
    }
   ],
   "source": [
    "import numpy as np\n",
    "u = eval(input(\"Entrer le vecteur u : [xu , yu] : \"))\n",
    "v = eval(input(\"Entrer le vecteur v : [xv , yv] : \"))\n",
    "npu = np.array(u)\n",
    "npv = np.array(v)\n",
    "w = npu + npv\n",
    "print(\"Vecteur w = u + v : \", w)"
   ]
  },
  {
   "cell_type": "markdown",
   "metadata": {},
   "source": [
    "1. On souhaite déterminer la dimension de la matrice suivante, c’est-à-dire le nombre de lignes et de colonnes de cette matrice "
   ]
  },
  {
   "cell_type": "markdown",
   "metadata": {},
   "source": [
    " $$\n",
    "                   A =                           \\begin{bmatrix}\n",
    "                                        1 & 3 & 3 \\\\\n",
    "                               1 & 4 & 3 \\\\\n",
    "                                        \\end{bmatrix}\n",
    "$$"
   ]
  },
  {
   "cell_type": "code",
   "execution_count": 22,
   "metadata": {},
   "outputs": [
    {
     "name": "stdout",
     "output_type": "stream",
     "text": [
      "Dimension de A :  (2, 3)\n"
     ]
    }
   ],
   "source": [
    "import numpy as np\n",
    "A = np.array([[1, 3, 3],[1, 4, 3]])\n",
    "print(\"Dimension de A : \", A.shape)\n",
    "# On obtient :\n",
    "# Dimension de A : (2, 3)\n",
    "# A comporte 2 lignes et 3 colonnes"
   ]
  },
  {
   "cell_type": "markdown",
   "metadata": {},
   "source": [
    "## Exercice 4"
   ]
  },
  {
   "cell_type": "markdown",
   "metadata": {},
   "source": [
    "2. Faire la multiplication de deux matrices ci-dessous. \n",
    "3. Vérfier si la multiplication est commutative A . B = B . A\n",
    "4. Faire la multiplication element par element. "
   ]
  },
  {
   "cell_type": "markdown",
   "metadata": {},
   "source": [
    "$$\n",
    "A =    \n",
    "\\begin{bmatrix}             \n",
    "      1 & 3 & 3 \\\\\n",
    "      1 & 4 & 3 \\\\\n",
    "      1 & 3 & 4 \\\\\n",
    "      \\end{bmatrix}   \n",
    "B =\n",
    "\\begin{bmatrix}             \n",
    "      0 & 2 & 1 \\\\\n",
    "      7 & -3 & 2 \\\\\n",
    "      2 & -1 & 1 \\\\\n",
    "      \\end{bmatrix}    \n",
    "$$    "
   ]
  },
  {
   "cell_type": "code",
   "execution_count": 23,
   "metadata": {},
   "outputs": [],
   "source": [
    "import numpy as np\n",
    "A = np.array([[1, 3, 3],[1, 4, 3],[1, 3, 4]])\n",
    "B = np.array([[0, 2, 1],[7, -3, 2],[2, -1, 1]])"
   ]
  },
  {
   "cell_type": "code",
   "execution_count": 24,
   "metadata": {},
   "outputs": [
    {
     "name": "stdout",
     "output_type": "stream",
     "text": [
      "A*B =  [[ 27 -10  10]\n",
      " [ 34 -13  12]\n",
      " [ 29 -11  11]]\n",
      "B*A =  [[ 3 11 10]\n",
      " [ 6 15 20]\n",
      " [ 2  5  7]]\n"
     ]
    }
   ],
   "source": [
    "#DOT PRODUCT\n",
    "C = A.dot(B)\n",
    "D = B.dot(A)\n",
    "print(\"A*B = \",C)\n",
    "print(\"B*A = \",D)"
   ]
  },
  {
   "cell_type": "code",
   "execution_count": 25,
   "metadata": {},
   "outputs": [
    {
     "name": "stdout",
     "output_type": "stream",
     "text": [
      "A*B =  [[ 27 -10  10]\n",
      " [ 34 -13  12]\n",
      " [ 29 -11  11]]\n",
      "B*A =  [[ 3 11 10]\n",
      " [ 6 15 20]\n",
      " [ 2  5  7]]\n"
     ]
    }
   ],
   "source": [
    "#DOT PRODUCT\n",
    "C = np.dot(A, B)\n",
    "D = np.dot(B, A)\n",
    "print(\"A*B = \",C)\n",
    "print(\"B*A = \",D)"
   ]
  },
  {
   "cell_type": "code",
   "execution_count": 26,
   "metadata": {},
   "outputs": [
    {
     "name": "stdout",
     "output_type": "stream",
     "text": [
      "[[  0   6   3]\n",
      " [  7 -12   6]\n",
      " [  2  -3   4]]\n"
     ]
    }
   ],
   "source": [
    "# ELEMENT BY ELEMENT (STEP-WISE)\n",
    "print( A * B) "
   ]
  },
  {
   "cell_type": "markdown",
   "metadata": {},
   "source": [
    "## Exercice 2"
   ]
  },
  {
   "cell_type": "markdown",
   "metadata": {},
   "source": [
    "Écrire un algorithme puis un programme Python qui effectue les opérations suivantes :\n",
    "    \n",
    "1- Saisir un entier et afficher sa parité. Par exemple : \" Le nombre 452 est pair\".\n"
   ]
  },
  {
   "cell_type": "code",
   "execution_count": 28,
   "metadata": {},
   "outputs": [
    {
     "name": "stdin",
     "output_type": "stream",
     "text": [
      "Entrer un entier compris  :  452\n"
     ]
    },
    {
     "name": "stdout",
     "output_type": "stream",
     "text": [
      "Le nombre  452  est pair.\n"
     ]
    }
   ],
   "source": [
    "a = int(input(\"Entrer un entier compris  : \"))\n",
    "if a%2 == 0 :\n",
    "    print(\"Le nombre \", a, \" est pair.\")\n",
    "else :\n",
    "    print(\"Le nombre \", a, \" est impair.\")\n"
   ]
  },
  {
   "cell_type": "markdown",
   "metadata": {},
   "source": [
    "## Exercice 3"
   ]
  },
  {
   "cell_type": "markdown",
   "metadata": {},
   "source": [
    "Écrire un algorithme puis un programme Python qui effectue les opérations suivantes :\n",
    "\n",
    "1- Saisir le nom de l’utilisateur (exemple : Mohamed) ;\n",
    "\n",
    "2- Saisir le genre de l’utilisateur (H ou F) ;\n",
    "\n",
    "3- Afficher le texte de bienvenue \"Bonjour Monsieur/Madame Mohamed\" selon le cas."
   ]
  },
  {
   "cell_type": "code",
   "execution_count": 32,
   "metadata": {},
   "outputs": [
    {
     "name": "stdin",
     "output_type": "stream",
     "text": [
      "Entrer votre nom :  raheb\n",
      "Vous êtes H ou F :  h\n"
     ]
    },
    {
     "name": "stdout",
     "output_type": "stream",
     "text": [
      "Il y a une erreur dans la saisie  raheb\n"
     ]
    },
    {
     "name": "stdin",
     "output_type": "stream",
     "text": [
      "Entrer votre nom :  raheb\n",
      "Vous êtes H ou F :  H\n"
     ]
    },
    {
     "name": "stdout",
     "output_type": "stream",
     "text": [
      "Bonjour Monsieur  raheb\n"
     ]
    }
   ],
   "source": [
    "nom = input(\"Entrer votre nom : \")\n",
    "genre = input(\"Vous êtes H ou F : \")\n",
    "\n",
    "if genre == \"H\" :\n",
    "    print(\"Bonjour Monsieur \", nom)\n",
    "elif genre == \"F\":\n",
    "    print(\"Bonjour Madame \", nom)\n",
    "else:\n",
    "    print(\"Il y a une erreur dans la saisie \", nom)\n"
   ]
  },
  {
   "cell_type": "code",
   "execution_count": 39,
   "metadata": {},
   "outputs": [
    {
     "name": "stdin",
     "output_type": "stream",
     "text": [
      "Entrer votre nom :  Raheb\n",
      "Vous êtes Homme (H) ou Femme (F) :  h\n"
     ]
    },
    {
     "name": "stdout",
     "output_type": "stream",
     "text": [
      "Bonjour Monsieur Raheb\n"
     ]
    }
   ],
   "source": [
    "nom = input(\"Entrer votre nom : \")\n",
    "genre = input(\"Vous êtes Homme (H) ou Femme (F) : \")\n",
    "\n",
    "if genre.lower() == \"h\" or genre.lower() == \"homme\":\n",
    "    print(\"Bonjour Monsieur\", nom)\n",
    "elif genre.lower() == \"f\" or genre.lower() == \"femme\":\n",
    "    print(\"Bonjour Madame\", nom)\n",
    "else:\n",
    "    print(\"Il y a une erreur dans la saisie\", nom)\n",
    "\n"
   ]
  },
  {
   "cell_type": "markdown",
   "metadata": {},
   "source": [
    "# 3. Listes et Dictionnaires "
   ]
  },
  {
   "cell_type": "markdown",
   "metadata": {},
   "source": [
    "## Exercice 1"
   ]
  },
  {
   "cell_type": "markdown",
   "metadata": {},
   "source": [
    "Créez une liste appelée nombres contenant les entiers de 1 à 5.\n",
    "\n",
    "1. Ajoutez le nombre 6 à la fin de la liste.\n",
    "\n",
    "2. Affichez la liste résultante."
   ]
  },
  {
   "cell_type": "code",
   "execution_count": 36,
   "metadata": {},
   "outputs": [
    {
     "name": "stdout",
     "output_type": "stream",
     "text": [
      "Liste des nombres : [1, 2, 3, 4, 5, 6]\n"
     ]
    }
   ],
   "source": [
    "# Création de la liste\n",
    "nombres = [1, 2, 3, 4, 5]\n",
    "\n",
    "# Ajout du nombre 6 à la fin de la liste\n",
    "nombres.append(6)\n",
    "\n",
    "# Affichage de la liste résultante\n",
    "print(\"Liste des nombres :\", nombres)\n"
   ]
  },
  {
   "cell_type": "markdown",
   "metadata": {},
   "source": [
    "## Exercice 2"
   ]
  },
  {
   "cell_type": "markdown",
   "metadata": {},
   "source": [
    "1. Créez une liste de noms de fruits appelée fruits contenant au moins 5 fruits différents.\n",
    "\n",
    "2. Affichez le deuxième fruit de la liste.\n",
    "\n",
    "3. Ajoutez deux nouveaux fruits à la fin de la liste.\n",
    "\n",
    "4. Remplacez le troisième fruit par un autre de votre choix.\n",
    "\n",
    "5. Affichez la liste résultante."
   ]
  },
  {
   "cell_type": "code",
   "execution_count": 45,
   "metadata": {},
   "outputs": [
    {
     "name": "stdout",
     "output_type": "stream",
     "text": [
      "Deuxième fruit : banane\n",
      "Liste de fruits mise à jour : ['pomme', 'banane', 'poire', 'kiwi', 'raisin', 'ananas', 'mangue']\n"
     ]
    }
   ],
   "source": [
    "# Création de la liste de fruits\n",
    "fruits = [\"pomme\", \"banane\", \"orange\", \"kiwi\", \"raisin\"]\n",
    "\n",
    "# Affichage du deuxième fruit\n",
    "print(\"Deuxième fruit :\", fruits[1])\n",
    "\n",
    "# Ajout de deux nouveaux fruits à la fin de la liste\n",
    "fruits.extend([\"ananas\", \"mangue\"])\n",
    "\n",
    "# Remplacement du troisième fruit\n",
    "fruits[2] = \"poire\"\n",
    "\n",
    "# Affichage de la liste résultante\n",
    "print(\"Liste de fruits mise à jour :\", fruits)\n"
   ]
  },
  {
   "cell_type": "markdown",
   "metadata": {},
   "source": [
    "## Exercice 3"
   ]
  },
  {
   "cell_type": "markdown",
   "metadata": {},
   "source": [
    "1. Créez une liste de mots appelée mots contenant cinq mots de votre choix.\n",
    "\n",
    "2. Utilisez une boucle pour afficher chaque mot suivi de sa longueur."
   ]
  },
  {
   "cell_type": "code",
   "execution_count": 46,
   "metadata": {},
   "outputs": [
    {
     "name": "stdout",
     "output_type": "stream",
     "text": [
      "python : 6\n",
      "programmation : 13\n",
      "liste : 5\n",
      "boucle : 6\n",
      "exercice : 8\n"
     ]
    }
   ],
   "source": [
    "# Création de la liste de mots\n",
    "mots = [\"python\", \"programmation\", \"liste\", \"boucle\", \"exercice\"]\n",
    "\n",
    "# Affichage de chaque mot suivi de sa longueur\n",
    "for mot in mots:\n",
    "    print(f\"{mot} : {len(mot)}\")\n"
   ]
  },
  {
   "cell_type": "markdown",
   "metadata": {},
   "source": [
    "## Exercice 4 "
   ]
  },
  {
   "cell_type": "markdown",
   "metadata": {},
   "source": [
    "\n",
    "1. Créez un dictionnaire appelé informations_personnelles avec les clés suivantes :\n",
    "\n",
    "                     'nom': votre nom\n",
    "\n",
    "                    'age': votre âge\n",
    "\n",
    "                    'ville': votre ville de résidence\n",
    "\n",
    "1. Ajoutez une nouvelle paire clé-valeur au dictionnaire pour représenter votre profession.\n",
    "\n",
    "2. Affichez le dictionnaire résultant."
   ]
  },
  {
   "cell_type": "code",
   "execution_count": 48,
   "metadata": {},
   "outputs": [
    {
     "name": "stdout",
     "output_type": "stream",
     "text": [
      "Informations personnelles : {'nom': 'Raheb', 'age': 27, 'ville': 'Fes', 'profession': 'Etudiant'}\n"
     ]
    }
   ],
   "source": [
    "# Création du dictionnaire\n",
    "informations_personnelles = {'nom': 'Raheb', 'age': 27, 'ville': 'Fes'}\n",
    "\n",
    "# Ajout de la profession au dictionnaire\n",
    "informations_personnelles['profession'] = 'Etudiant'\n",
    "\n",
    "# Affichage du dictionnaire résultant\n",
    "print(\"Informations personnelles :\", informations_personnelles)\n"
   ]
  },
  {
   "cell_type": "code",
   "execution_count": null,
   "metadata": {},
   "outputs": [],
   "source": []
  }
 ],
 "metadata": {
  "kernelspec": {
   "display_name": "Python 3 (ipykernel)",
   "language": "python",
   "name": "python3"
  },
  "language_info": {
   "codemirror_mode": {
    "name": "ipython",
    "version": 3
   },
   "file_extension": ".py",
   "mimetype": "text/x-python",
   "name": "python",
   "nbconvert_exporter": "python",
   "pygments_lexer": "ipython3",
   "version": "3.13.0"
  }
 },
 "nbformat": 4,
 "nbformat_minor": 4
}
